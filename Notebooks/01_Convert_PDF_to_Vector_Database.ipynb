{
 "cells": [
  {
   "cell_type": "markdown",
   "id": "17e508a7",
   "metadata": {},
   "source": [
    "# Building Agentic Corrective RAG System\n",
    "Step by step : \n",
    "1. Extract text from PDF and Store it in Qdrant Vector Database\n",
    "2. Gather 50 conversation with each 10 question-answer pair\n",
    "3. Develop the Corrective RAG System + ScrapeGraphAI\n",
    "4. Testing and Evaluation\n",
    "5. Build the Streamlit Apps\n"
   ]
  },
  {
   "cell_type": "code",
   "execution_count": 1,
   "id": "d8ae5a6c",
   "metadata": {},
   "outputs": [
    {
     "name": "stderr",
     "output_type": "stream",
     "text": [
      "C:\\Users\\PF4AA\\OneDrive\\Documents\\Self Learning\\Personal_porto\\AI_Assistant_Umrah\\MVP_Creation\\umrah_env\\lib\\site-packages\\langchain_core\\_api\\deprecation.py:139: LangChainDeprecationWarning: The class `OpenAIEmbeddings` was deprecated in LangChain 0.0.9 and will be removed in 0.3.0. An updated version of the class exists in the langchain-openai package and should be used instead. To use it run `pip install -U langchain-openai` and import as `from langchain_openai import OpenAIEmbeddings`.\n",
      "  warn_deprecated(\n",
      "C:\\Users\\PF4AA\\AppData\\Local\\Temp\\ipykernel_187720\\588740158.py:25: DeprecationWarning: `recreate_collection` method is deprecated and will be removed in the future. Use `collection_exists` to check collection existence and `create_collection` instead.\n",
      "  qdrant_client.recreate_collection(\n"
     ]
    }
   ],
   "source": [
    "import os\n",
    "import uuid\n",
    "import fitz  # PyMuPDF\n",
    "from qdrant_client import QdrantClient\n",
    "from qdrant_client.http.models import Distance, VectorParams, PointStruct\n",
    "from langchain.embeddings import OpenAIEmbeddings\n",
    "\n",
    "# Initialize Qdrant client\n",
    "qdrant_client = QdrantClient(host='localhost', port=6333)\n",
    "\n",
    "# Function to extract text from PDF\n",
    "def extract_text_from_pdf(pdf_path):\n",
    "    text = \"\"\n",
    "    with fitz.open(pdf_path) as doc:\n",
    "        for page in doc:\n",
    "            text += page.get_text()\n",
    "    return text\n",
    "\n",
    "def main():\n",
    "    # Initialize the embeddings model\n",
    "    embeddings_model = OpenAIEmbeddings(api_key=\"\")\n",
    "\n",
    "    # Create or recreate the collection in Qdrant\n",
    "    collection_name = 'umrah_guides'\n",
    "    qdrant_client.recreate_collection(\n",
    "        collection_name=collection_name,\n",
    "        vectors_config=VectorParams(size=1536, distance=Distance.COSINE)\n",
    "    )\n",
    "\n",
    "    # Path to the folder containing PDF files\n",
    "    pdf_folder = r'C:\\Users\\PF4AA\\OneDrive\\Documents\\Self Learning\\Personal_porto\\AI_Assistant_Umrah\\MVP_Creation\\pdf_docs_for_RAG'\n",
    "\n",
    "    # Process each PDF file in the folder\n",
    "    for pdf_file in os.listdir(pdf_folder):\n",
    "        if pdf_file.endswith('.pdf'):\n",
    "            pdf_path = os.path.join(pdf_folder, pdf_file)\n",
    "            text = extract_text_from_pdf(pdf_path)\n",
    "            embeddings = embeddings_model.embed_documents([text])\n",
    "            for embedding in embeddings:\n",
    "                point_id = str(uuid.uuid4())  # Generate a unique UUID for each document\n",
    "                qdrant_client.upsert(\n",
    "                    collection_name=collection_name,\n",
    "                    points=[PointStruct(id=point_id, vector=embedding)]\n",
    "                )\n",
    "\n",
    "if __name__ == \"__main__\":\n",
    "    main()"
   ]
  },
  {
   "cell_type": "code",
   "execution_count": 1,
   "id": "b719e978",
   "metadata": {},
   "outputs": [
    {
     "name": "stderr",
     "output_type": "stream",
     "text": [
      "C:\\Users\\PF4AA\\OneDrive\\Documents\\Self Learning\\Personal_porto\\AI_Assistant_Umrah\\MVP_Creation\\umrah_env\\lib\\site-packages\\langchain_core\\_api\\deprecation.py:139: LangChainDeprecationWarning: The class `OpenAIEmbeddings` was deprecated in LangChain 0.0.9 and will be removed in 0.3.0. An updated version of the class exists in the langchain-openai package and should be used instead. To use it run `pip install -U langchain-openai` and import as `from langchain_openai import OpenAIEmbeddings`.\n",
      "  warn_deprecated(\n",
      "C:\\Users\\PF4AA\\AppData\\Local\\Temp\\ipykernel_12376\\1919394888.py:25: DeprecationWarning: `recreate_collection` method is deprecated and will be removed in the future. Use `collection_exists` to check collection existence and `create_collection` instead.\n",
      "  qdrant_client.recreate_collection(\n"
     ]
    }
   ],
   "source": [
    "import os\n",
    "import uuid\n",
    "import fitz  # PyMuPDF\n",
    "from qdrant_client import QdrantClient\n",
    "from qdrant_client.http.models import Distance, VectorParams, PointStruct\n",
    "from langchain.embeddings import OpenAIEmbeddings\n",
    "\n",
    "# Initialize Qdrant client\n",
    "qdrant_client = QdrantClient(host='localhost', port=6333)\n",
    "\n",
    "# Function to extract text from PDF\n",
    "def extract_text_from_pdf(pdf_path):\n",
    "    text = \"\"\n",
    "    with fitz.open(pdf_path) as doc:\n",
    "        for page in doc:\n",
    "            text += page.get_text()\n",
    "    return text\n",
    "\n",
    "def main():\n",
    "    # Initialize the embeddings model\n",
    "    embeddings_model = OpenAIEmbeddings(api_key=\"\")\n",
    "\n",
    "    # Create or recreate the collection in Qdrant\n",
    "    collection_name = 'umrah_guides_2'\n",
    "    qdrant_client.recreate_collection(\n",
    "        collection_name=collection_name,\n",
    "        vectors_config=VectorParams(size=1536, distance=Distance.COSINE)\n",
    "    )\n",
    "\n",
    "    # Path to the folder containing PDF files\n",
    "    pdf_folder = r'C:\\Users\\PF4AA\\OneDrive\\Documents\\Self Learning\\Personal_porto\\AI_Assistant_Umrah\\MVP_Creation\\pdf_docs_for_RAG'\n",
    "\n",
    "    # Process each PDF file in the folder\n",
    "    for pdf_file in os.listdir(pdf_folder):\n",
    "        if pdf_file.endswith('.pdf'):\n",
    "            pdf_path = os.path.join(pdf_folder, pdf_file)\n",
    "            text = extract_text_from_pdf(pdf_path)\n",
    "            embeddings = embeddings_model.embed_documents([text])\n",
    "            for embedding in embeddings:\n",
    "                point_id = str(uuid.uuid4())  # Generate a unique UUID for each document\n",
    "                qdrant_client.upsert(\n",
    "                    collection_name=collection_name,\n",
    "                    points=[PointStruct(\n",
    "                        id=point_id,\n",
    "                        vector=embedding,\n",
    "                        payload={\"text\": text}  # Include text in the payload\n",
    "                    )]\n",
    "                )\n",
    "\n",
    "if __name__ == \"__main__\":\n",
    "    main()"
   ]
  },
  {
   "cell_type": "code",
   "execution_count": null,
   "id": "1a321b1c",
   "metadata": {},
   "outputs": [],
   "source": []
  }
 ],
 "metadata": {
  "kernelspec": {
   "display_name": "Python (umrah_env)",
   "language": "python",
   "name": "umrah_env"
  },
  "language_info": {
   "codemirror_mode": {
    "name": "ipython",
    "version": 3
   },
   "file_extension": ".py",
   "mimetype": "text/x-python",
   "name": "python",
   "nbconvert_exporter": "python",
   "pygments_lexer": "ipython3",
   "version": "3.10.9"
  }
 },
 "nbformat": 4,
 "nbformat_minor": 5
}
