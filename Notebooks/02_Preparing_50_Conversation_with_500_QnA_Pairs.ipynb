{
 "cells": [
  {
   "cell_type": "code",
   "execution_count": 19,
   "id": "3698a711",
   "metadata": {
    "scrolled": true
   },
   "outputs": [
    {
     "name": "stderr",
     "output_type": "stream",
     "text": [
      "100%|██████████████████████████████████████████████████████████████████████████████████| 50/50 [13:17<00:00, 15.96s/it]\n"
     ]
    }
   ],
   "source": [
    "import pandas as pd\n",
    "import openai\n",
    "import random\n",
    "import time\n",
    "from tqdm import tqdm\n",
    "import json\n",
    "\n",
    "qna_pair = pd.read_csv('Data/500-Umrah-related-question-answer-pair.csv')\n",
    "\n",
    "# Separate the data by source\n",
    "source_1 = qna_pair[qna_pair['Sumber'] == \"Buku Tuntunan Manasik Haji dan Umrah 2024 Kemenag\"]\n",
    "source_2 = qna_pair[qna_pair['Sumber'] == \"Fiqh Praktis Haji dan Umrah Oleh Abu Yusuf Akhmad Ja'far\\n\"]\n",
    "source_3 = qna_pair[qna_pair['Sumber'] == \"Panduan Ibadah Haji Sesuai Sunnah Nabi Oleh Abu Ubaidah Yusuf bin Mukhtar As-Sidawi\"]\n",
    "\n",
    "# Function to sample questions\n",
    "def sample_questions():\n",
    "    conversation_samples = []\n",
    "    for i in range(50):\n",
    "        source_1_sample = source_1.sample(4)['No '].tolist()\n",
    "        source_2_sample = source_2.sample(3)['No '].tolist()\n",
    "        source_3_sample = source_3.sample(3)['No '].tolist()\n",
    "        conversation_samples.append([i + 1, source_1_sample + source_2_sample + source_3_sample])\n",
    "    return conversation_samples\n",
    "\n",
    "# Generate the conversation samples\n",
    "conversation_samples = sample_questions()\n",
    "\n",
    "# Convert to DataFrame\n",
    "conversation_df = pd.DataFrame(conversation_samples, columns=['Conversation Number', 'Question Numbers'])\n",
    "\n",
    "# Function to create a conversation prompt\n",
    "def create_conversation_prompt(question_numbers, qna_pair):\n",
    "    conversation = \"\"\n",
    "    for q_num in question_numbers:\n",
    "        question = qna_pair[qna_pair['No '] == q_num]['Pertanyaan '].values[0]\n",
    "        answer = qna_pair[qna_pair['No '] == q_num]['Jawaban'].values[0]\n",
    "        conversation += f\"Q: {question}\\nA: {answer}\\n\\n\"\n",
    "    return conversation\n",
    "\n",
    "# Function to send API request to OpenAI\n",
    "def send_api_request(prompt, system_message, api_key, retries=3, backoff_factor=1):\n",
    "    openai.api_key = api_key\n",
    "    attempt = 0\n",
    "    while attempt < retries:\n",
    "        try:\n",
    "            response = openai.chat.completions.create(\n",
    "                model=\"gpt-4o\",\n",
    "                messages=[\n",
    "                    {\"role\": \"system\", \"content\": system_message},\n",
    "                    {\"role\": \"user\", \"content\": prompt}\n",
    "                ],\n",
    "                max_tokens=4096,\n",
    "            )\n",
    "            return response.choices[0].message.content\n",
    "        except Exception as e:\n",
    "            print(f\"Error during API request (attempt {attempt + 1}): {e}\")\n",
    "            time.sleep(backoff_factor * (2 ** attempt))\n",
    "            attempt += 1\n",
    "    return None\n",
    "\n",
    "def main():\n",
    "    # Define the system message to explain the expectations\n",
    "    system_message = \"\"\"\n",
    "    You are an AI assistant with expertise in Umrah preparations, rituals, costs, and general travel and tourism in Saudi Arabia. \n",
    "    Your task is to generate a natural conversation flow based on 10 provided question-and-answer pairs.\n",
    "\n",
    "    Please write a conversation that incorporates all these question-and-answer pairs in a seamless and engaging manner. \n",
    "    The conversation should feel like a daily chat, with the AI assistant responding in a professional yet friendly tone. \n",
    "    Ensure smooth transitions between each question to maintain a coherent flow. \n",
    "    The responses should strictly adhere to the provided input text.\n",
    "\n",
    "    The output format should strictly in a dictionary like this (no additional string before and after the dictionary): \n",
    "    \n",
    "    {\"messages\":[\n",
    "         {'role': 'system','content': (a summary of what the assistant is capable about within this conversation of 10 question-answer pairs, example:This assistant is knowledgable about Wukuf, Umrah preparation, and other rituals details)'}\n",
    "         {\"role\": \"assistant\", \"content\": \"Assalamu'alaikum! Bagaimana kabar Bapak/Ibu? Apa ada yang bisa saya bantu terkait persiapan Umrah atau pertanyaan lainnya?\"}, \n",
    "         {\"role\": \"user\", \"content\": \" Wa'alaikumsalam. Alhamdulillah, saya baik. Saya ingin tahu, bagaimana sih cara melaksanakan wukuf di Arafah?\"}, \n",
    "         {\"role\": \"assistant\", \"content\": \"Alhamdulillah, senang mendengarnya. Wukuf di Arafah adalah puncak ibadah haji yang dilakukan dengan berdiam diri di Padang Arafah pada 9 Dzulhijjah, mulai dari tergelincir matahari sampai terbenam. Wukuf ini sangat penting karena tanpa melaksanakannya, haji tidak sah. Ada hal lain tentang wukuf di Arafah yang ingin Bapak/Ibu ketahui?\"}, \n",
    "         {\"role\": \"user\", \"content\": \" Terima kasih informasinya. Kalau misalnya saya sakit selama umrah, apa yang harus saya lakukan?\"}\n",
    "         ... (continue until it covers all 10 questions mentioned in the input)\n",
    "         ]}\n",
    "    \"\"\"\n",
    "\n",
    "    # Send API request with OPENAI API Key\n",
    "    api_key = ''\n",
    "\n",
    "    # Iterate over each row in the conversation_df to generate and save conversations\n",
    "    for index, row in tqdm(conversation_df.iterrows(), total=conversation_df.shape[0]):\n",
    "        question_numbers = row['Question Numbers']\n",
    "        prompt = create_conversation_prompt(question_numbers, qna_pair)\n",
    "        conversation = send_api_request(prompt, system_message, api_key=api_key)\n",
    "\n",
    "        # Create a DataFrame for the current conversation\n",
    "        conversation_data = pd.DataFrame([[row['Conversation Number'], conversation]], columns=['Conversation Number', 'Conversation'])\n",
    "\n",
    "        # Append the current conversation DataFrame to the CSV file\n",
    "        conversation_data.to_csv('50_generated_conversations_290724-2am.csv', mode='a', index=False, header=False)\n",
    "\n",
    "if __name__ == '__main__':\n",
    "    main()"
   ]
  },
  {
   "cell_type": "code",
   "execution_count": 55,
   "id": "31714815",
   "metadata": {},
   "outputs": [],
   "source": [
    "conv_data = pd.read_excel('50_conversation_excel_cleaned.xlsx') #manually cleaned\n",
    "succ, err = [], []\n",
    "for i in range(1, 50):\n",
    "    try:\n",
    "        eval(conv_data.iloc[i, 1])\n",
    "        succ.append(i)\n",
    "    except:\n",
    "        err.append(i)"
   ]
  },
  {
   "cell_type": "code",
   "execution_count": 56,
   "id": "d6b274d1",
   "metadata": {
    "scrolled": true
   },
   "outputs": [
    {
     "data": {
      "text/plain": [
       "[]"
      ]
     },
     "execution_count": 56,
     "metadata": {},
     "output_type": "execute_result"
    }
   ],
   "source": [
    "err #to prove no error now"
   ]
  },
  {
   "cell_type": "code",
   "execution_count": 57,
   "id": "a0fe2309",
   "metadata": {
    "scrolled": true
   },
   "outputs": [
    {
     "data": {
      "text/plain": [
       "{'messages': [{'role': 'system',\n",
       "   'content': 'This assistant is knowledgeable about Wukuf, Umrah preparations, and other ritual details.'},\n",
       "  {'role': 'assistant',\n",
       "   'content': \"Assalamu'alaikum! Bagaimana kabar Bapak/Ibu? Apa ada yang bisa saya bantu terkait persiapan Umrah atau pertanyaan lainnya?\"},\n",
       "  {'role': 'user',\n",
       "   'content': \"Wa'alaikumsalam. Alhamdulillah, saya baik. Apa syarat wajib haji dan umrah?\"},\n",
       "  {'role': 'assistant',\n",
       "   'content': 'Syarat wajib haji dan umrah adalah: 1) Islam, 2) Baligh (dewasa), 3) Berakal sehat, 4) Merdeka (bukan hamba sahaya), dan 5) Istit}a’ah (mampu). Apakah bapak/ibu ingin tahu lebih lanjut tentang salah satu syarat ini?'},\n",
       "  {'role': 'user',\n",
       "   'content': 'Terima kasih informasinya. Bagaimana cara memperbanyak bacaan Al-Quran selama umrah?'},\n",
       "  {'role': 'assistant',\n",
       "   'content': 'Halo bapak/ibu, untuk memperbanyak bacaan Al-Quran selama umrah, bawa selalu mushaf kecil, gunakan aplikasi Al-Quran di ponsel, dan tetapkan waktu khusus untuk membaca Al-Quran setiap hari. Apakah bapak/ibu ada saran lain yang ingin diketahui?'},\n",
       "  {'role': 'user',\n",
       "   'content': 'Bagaimana cara menjaga kebersamaan keluarga selama umrah?'},\n",
       "  {'role': 'assistant',\n",
       "   'content': 'Untuk menjaga kebersamaan keluarga selama umrah, rencanakan kegiatan bersama, saling mendukung dalam ibadah, dan luangkan waktu untuk berbagi cerita. Apakah ada cara lain yang bapak/ibu butuhkan?'},\n",
       "  {'role': 'user',\n",
       "   'content': 'Bagaimana cara menjaga keamanan diri selama umrah?'},\n",
       "  {'role': 'assistant',\n",
       "   'content': 'Untuk menjaga keamanan diri selama umrah, pastikan selalu bersama rombongan, jangan terlalu sering bepergian sendiri, dan simpan barang berharga di tempat yang aman. Apakah ada hal lain yang bapak/ibu ingin ketahui?'},\n",
       "  {'role': 'user',\n",
       "   'content': 'Apa perbedaan antara rukun umroh dan wajib umroh?'},\n",
       "  {'role': 'assistant',\n",
       "   'content': 'Rukun umroh adalah bagian-bagian ibadah yang harus dilakukan agar umroh sah, yaitu niat ihram, tawaf, dan sa’i. Sedangkan wajib umroh adalah amalan yang harus dilakukan, namun jika tidak dilakukan, umroh tetap sah tetapi harus membayar dam, seperti ihram dari miqat dan halq atau taqsir. Apakah bapak/ibu ingin mengetahui lebih rinci tentang perbedaan ini?'},\n",
       "  {'role': 'user',\n",
       "   'content': 'Apakah ada batasan waktu untuk memperbanyak talbiah?'},\n",
       "  {'role': 'assistant',\n",
       "   'content': 'Talbiah diperbanyak sejak ihram hingga tiba di Makkah, dan bagi laki-laki dianjurkan mengeraskan suara. Apakah bapak/ibu ingin mengetahui lebih lanjut tentang waktu dan tata cara talbiah?'},\n",
       "  {'role': 'user', 'content': \"Bagaimana memulai sa'i umrah?\"},\n",
       "  {'role': 'assistant',\n",
       "   'content': \"Sa'i umrah dimulai dengan menuju Bukit Shafa. Ketika mendekati Shafa, bacalah, 'Innash shafaa wal marwata min sya’airillah' dan 'Nabda-u bimaa bada-allah bih'. Apakah bapak/ibu ingin mengetahui lebih lanjut tentang langkah-langkah memulai sa'i?\"},\n",
       "  {'role': 'user',\n",
       "   'content': 'Mengapa air zamzam dianggap spesial dalam Islam?'},\n",
       "  {'role': 'assistant',\n",
       "   'content': \"Air zamzam dianggap spesial karena dalam hadits disebutkan sebagai 'Sebaik-baik air di muka bumi' yang mengandung makanan yang mengenyangkan dan penawar penyakit. Banyak kisah ulama salaf yang doanya terkabul setelah meminum air zamzam. Apakah Anda ingin mengetahui lebih banyak tentang keutamaan air zamzam?\"},\n",
       "  {'role': 'user', 'content': 'Bagaimana cara melempar jumrah Aqabah?'},\n",
       "  {'role': 'assistant',\n",
       "   'content': 'Melempar jumrah Aqabah dilakukan dengan tujuh kerikil berurutan dan bertakbir di setiap lemparan. Setelah melempar jumrah Aqabah, jamaah bisa menyembelih kurban jika wajib kurban, lalu mencukur rambut kepala. Ini adalah urutan yang afdhal, namun jika didahulukan antara satu dengan yang lainnya, maka tidak mengapa. Dengan mengerjakan tiga rangkaian manasik ini, jamaah haji telah dihalalkan dari setiap larangan ihram kecuali jima’ (hubungan badan). Apakah ada yang ingin Anda tanyakan mengenai cara melempar jumrah?'},\n",
       "  {'role': 'user',\n",
       "   'content': 'Bagaimana tata cara sa’i antara Shafa dan Marwa?'},\n",
       "  {'role': 'assistant',\n",
       "   'content': \"Tata cara sa’i adalah setelah shalat di maqam Ibrahim dan meminum air zamzam, jamaah menuju bukit Shafa, menghadap Ka'bah, mengangkat tangan dan membaca doa. Kemudian berjalan menuju bukit Marwa sambil memperbanyak doa dan dzikir, serta lari-lari kecil antara dua tanda hijau bagi laki-laki. Sa’i dilakukan sebanyak tujuh kali dengan berakhir di Marwa. Apakah Anda ingin mengetahui lebih lanjut tentang tata cara sa’i?\"}]}"
      ]
     },
     "metadata": {},
     "output_type": "display_data"
    },
    {
     "name": "stdout",
     "output_type": "stream",
     "text": [
      "------------------------------------------------------------------------------------------------------------------------\n"
     ]
    },
    {
     "data": {
      "text/plain": [
       "{'messages': [{'role': 'system',\n",
       "   'content': 'This assistant is knowledgeable about Wukuf, Umrah preparation, and other rituals details.'},\n",
       "  {'role': 'assistant',\n",
       "   'content': \"Assalamu'alaikum! Bagaimana kabar Bapak/Ibu? Apa ada yang bisa saya bantu terkait persiapan Umrah atau pertanyaan lainnya?\"},\n",
       "  {'role': 'user',\n",
       "   'content': \"Wa'alaikumsalam. Alhamdulillah, saya baik. Saya ingin tahu, bagaimana sih cara melaksanakan wukuf di Arafah?\"},\n",
       "  {'role': 'assistant',\n",
       "   'content': 'Alhamdulillah, senang mendengarnya. Wukuf di Arafah adalah puncak ibadah haji yang dilakukan dengan berdiam diri di Padang Arafah pada 9 Dzulhijjah, mulai dari tergelincir matahari sampai terbenam. Wukuf ini sangat penting karena tanpa melaksanakannya, haji tidak sah. Ada hal lain tentang wukuf di Arafah yang ingin Bapak/Ibu ketahui?'},\n",
       "  {'role': 'user',\n",
       "   'content': 'Terima kasih informasinya. Kalau misalnya saya sakit selama umrah, apa yang harus saya lakukan?'},\n",
       "  {'role': 'assistant',\n",
       "   'content': 'Jika Bapak/Ibu sakit selama melaksanakan umrah, sebaiknya segera lapor ke petugas kesehatan atau dokter yang ada di tempat. Jangan lupa untuk selalu membawa obat-obatan pribadi dan menjaga kesehatan sebelum dan selama perjalanan. Ada hal lain yang ingin Bapak/Ibu tanyakan?'},\n",
       "  {'role': 'user',\n",
       "   'content': 'Bagaimana cara melakukan tahallul dalam umrah?'},\n",
       "  {'role': 'assistant',\n",
       "   'content': 'Tahallul dalam umrah dilakukan dengan bercukur atau memotong rambut setelah menyelesaikan tawaf dan sa’i. Ini menandakan selesainya masa ihram dan dihalalkannya kembali perbuatan yang sebelumnya dilarang. Ada hal lain yang Bapak/Ibu ingin tanyakan tentang tahallul?'},\n",
       "  {'role': 'user', 'content': 'Apa yang dilakukan setelah selesai thawaf?'},\n",
       "  {'role': 'assistant',\n",
       "   'content': \"Setelah thawaf, menutup kedua pundak, lalu menuju ke Maqam Ibrahim sambil membaca, 'Wattakhodzu mim maqoomi ibroohiima musholla' (Dan jadikanlah sebahagian maqam Ibrahim tempat shalat). Apakah Bapak/Ibu ingin mengetahui lebih rinci tentang langkah ini?\"},\n",
       "  {'role': 'user',\n",
       "   'content': 'Saya rasa cukup jelas. Apa itu melontar jamrah?'},\n",
       "  {'role': 'assistant',\n",
       "   'content': 'Melontar jamrah adalah melempar batu kerikil ke arah tiga jamrah (Sughra, Wustha, dan Kubra) dengan niat untuk mengenainya. Melontar jamrah dilakukan pada hari Nahr dan hari-hari Tasyriq. Ada yang ingin Bapak/Ibu tanyakan lebih lanjut mengenai melontar jamrah?'},\n",
       "  {'role': 'user',\n",
       "   'content': 'Apa yang harus diperhatikan saat melempar jumrah?'},\n",
       "  {'role': 'assistant',\n",
       "   'content': 'Beberapa kesalahan yang harus dihindari saat melempar jumrah antara lain: melempar dengan kerikil besar atau benda lain, berdesak-desakan dan saling mendorong di tempat jumrah, melempar seluruh kerikil sekaligus, dan lemparan tidak sampai masuk ke tempatnya. Selain itu, jamaah juga harus berdoa seusai melempar jumrah sughra dan wustha, serta tidak perlu berdoa setelah melempar jumrah Aqabah. Apakah Anda ingin mengetahui lebih lanjut tentang kesalahan yang harus dihindari saat melempar jumrah?'},\n",
       "  {'role': 'user',\n",
       "   'content': 'Tidak untuk saat ini. Saya juga ingin tahu, apakah ada dzikir tertentu yang harus dipandu saat thawaf?'},\n",
       "  {'role': 'assistant',\n",
       "   'content': 'Tidak disyariatkan dzikir jama’i yang dipandu oleh mutowwif di setiap putaran tertentu. Sebaiknya menghindari hal ini untuk mencegah jatuh dalam perkara bid’ah. Apakah Bapak/Ibu ingin mengetahui lebih rinci tentang hal ini?'},\n",
       "  {'role': 'user',\n",
       "   'content': 'Baik, jelas. Sekarang, saya ingin bertanya, apa saja tempat ziarah yang direkomendasikan di Makkah?'},\n",
       "  {'role': 'assistant',\n",
       "   'content': \"Tempat ziarah yang direkomendasikan di Makkah antara lain Ka'bah, Masjidil Haram, rumah kelahiran Nabi Muhammad SAW, makam Ma'la, Masjid Jin, Masjid Dzi Thuwa, Jabal Nur, dan Jabal Tsur. Tempat-tempat ini memiliki nilai sejarah tinggi dan penting untuk dikunjungi. Apakah ada tempat khusus yang ingin Bapak/Ibu ketahui lebih lanjut?\"},\n",
       "  {'role': 'user',\n",
       "   'content': 'Saya hanya ingin tahu rekomendasinya saja, terima kasih. Apa itu miqat dan bagaimana macam-macamnya?'},\n",
       "  {'role': 'assistant',\n",
       "   'content': \"Miqat adalah batas waktu dan tempat untuk memulai ihram. Miqat terbagi menjadi Miqat Zamani (batas waktu, yaitu Syawal, Dzulqa’dah, dan Dzulhijjah) dan Miqat Makani (batas tempat, seperti Dzul Hulaifah untuk penduduk Madinah, Juhfah untuk penduduk Syam, Qornul Manazil untuk penduduk Nejed, Yalamlam untuk penduduk Yaman, dan Dzat 'Irq untuk penduduk Iraq). Apakah Anda sudah mengetahui miqat yang sesuai dengan rute perjalanan Anda?\"},\n",
       "  {'role': 'user',\n",
       "   'content': 'Saya belum yakin. Apa alasan ulama yang menolak miqat dari Jeddah untuk jamaah haji?'},\n",
       "  {'role': 'assistant',\n",
       "   'content': \"Ulama yang menolak miqat dari Jeddah beralasan bahwa: 1) Dalil-dalil keumuman memerintahkan ihram dari miqat yang telah ditetapkan Nabi. 2) Para ulama sepakat bahwa melewati miqat tanpa ihram bagi yang ingin umrah atau haji adalah haram. 3) Mayoritas ulama dari madzhab Hanafiyyah, Malikiyyah, Syafi'iyyah, dan Hanabilah berpendapat bahwa wajib ihram dari miqat yang ada, baik darat maupun laut. 4) Qiyas kepada shalat dan puasa yang tidak membedakan antara darat dan udara. 5) Jeddah sudah ada sejak zaman Nabi, namun tidak dijadikan miqat. Apakah ada yang ingin Anda tanyakan mengenai alasan-alasan ini?\"},\n",
       "  {'role': 'user',\n",
       "   'content': 'Tidak, terima kasih banyak. Apakah bisa dijelaskan apa saja keutamaan haji?'},\n",
       "  {'role': 'assistant',\n",
       "   'content': 'Halo Bapak/Ibu, setidaknya terdapat enam keutamaan haji: 1) Haji merupakan di antara amalan yang paling afdhol, 2) Haji termasuk jihad fii sabilillah (jihad di jalan Allah), 3) Jika ibadah haji tidak bercampur dengan dosa, maka balasannya adalah surga, 4) Haji akan menghapuskan kesalahan dan dosa-dosa, 5) Orang yang berhaji adalah tamu Allah, dan 6) Orang yang haji didoakan ampunan.'}]}"
      ]
     },
     "metadata": {},
     "output_type": "display_data"
    },
    {
     "name": "stdout",
     "output_type": "stream",
     "text": [
      "------------------------------------------------------------------------------------------------------------------------\n"
     ]
    },
    {
     "data": {
      "text/plain": [
       "{'messages': [{'role': 'system',\n",
       "   'content': 'This assistant is knowledgeable about the rituals of Umrah and Hajj, including details on Wukuf, badal haji, selection of accommodation, the performance of Tawaf, rest places, rukun umrah, rules after reciting Talbiah, understanding Tahallul, common mistakes in ziyarah, and beneficial prayers, including Ayat Kursi.'},\n",
       "  {'role': 'assistant',\n",
       "   'content': \"Assalamu'alaikum! Bagaimana kabar Bapak/Ibu? Apa ada yang bisa saya bantu terkait persiapan Umrah atau pertanyaan lainnya?\"},\n",
       "  {'role': 'user',\n",
       "   'content': \"Wa'alaikumsalam. Alhamdulillah, saya baik. Saya ingin tahu dulu bagaimana pelaksanaan badal haji.\"},\n",
       "  {'role': 'assistant',\n",
       "   'content': 'Badal haji dilaksanakan oleh petugas yang ditunjuk pemerintah dan dibiayai oleh pemerintah. Jemaah atau keluarga tidak dikenakan biaya dan akan menerima sertifikat badal haji sebagai bukti. Apakah ada hal lain tentang pelaksanaan badal haji yang ingin Bapak/Ibu ketahui?'},\n",
       "  {'role': 'user',\n",
       "   'content': 'Tidak, itu sudah cukup. Ada rekomendasi untuk memilih penginapan yang aman dan nyaman selama umrah?'},\n",
       "  {'role': 'assistant',\n",
       "   'content': 'Halo Bapak/Ibu, untuk memilih penginapan yang aman dan nyaman selama umrah, pastikan hotel tersebut memiliki sertifikasi dari pemerintah dan ulasan yang baik dari tamu sebelumnya. Bapak/Ibu sudah memiliki pilihan hotel atau butuh rekomendasi?'},\n",
       "  {'role': 'user',\n",
       "   'content': 'Saya belum ada pilihan, jadi rekomendasinya sangat dibutuhkan. Satu lagi, apa saja syarat sah tawaf?'},\n",
       "  {'role': 'assistant',\n",
       "   'content': 'Syarat sah tawaf meliputi: 1) Suci dari hadas besar dan kecil, 2) Menutup aurat, 3) Tawaf dilakukan di dalam Masjidil Haram, 4) Ka’bah berada di sebelah kiri, dan 5) Memulai tawaf dari Hajar Aswad. Apakah Bapak/Ibu ingin tahu lebih lanjut tentang sunnah-sunnah tawaf?'},\n",
       "  {'role': 'user',\n",
       "   'content': 'Mungkin nanti. Sekarang saya mau tahu tempat istirahat yang nyaman selama umrah.'},\n",
       "  {'role': 'assistant',\n",
       "   'content': 'Halo Bapak/Ibu, tempat istirahat yang nyaman selama umrah antara lain hotel tempat menginap dan area khusus di sekitar masjid yang disediakan untuk beristirahat. Apakah ada tempat lain yang Bapak/Ibu cari?'},\n",
       "  {'role': 'user', 'content': 'Itu cukup. Apa saja rukun umroh sebenarnya?'},\n",
       "  {'role': 'assistant',\n",
       "   'content': \"Rukun umroh ada tiga: 1) Niat ihram, 2) Tawaf mengelilingi Ka'bah, dan 3) Sa’i (lari-lari kecil antara bukit Safa dan Marwah). Apakah Bapak/Ibu ingin mengetahui lebih detail tentang setiap rukun umroh?\"},\n",
       "  {'role': 'user',\n",
       "   'content': 'Ya, nanti saja. Sekarang, setelah saya mengucapkan talbiah umroh, apa yang harus saya lakukan?'},\n",
       "  {'role': 'assistant',\n",
       "   'content': 'Setelah mengucapkan talbiah umroh, dilanjutkan dengan memperbanyak talbiah, mengeraskan suara bagi laki-laki dan lirih bagi perempuan, hingga tiba di Makkah. Apakah Bapak/Ibu ingin mengetahui lebih lanjut tentang bacaan talbiah ini?'},\n",
       "  {'role': 'user',\n",
       "   'content': 'Mungkin nanti. Apa yang dimaksud dengan tahallul?'},\n",
       "  {'role': 'assistant',\n",
       "   'content': 'Tahallul adalah proses memotong atau mencukur rambut sebagai tanda selesainya ihram. Ini merupakan syarat sah umrah dan haji, menandai berakhirnya fase ihram dan kembalinya jamaah ke keadaan normal. Tahallul juga mencerminkan ketaatan dan kesucian setelah menyelesaikan ibadah utama. Dengan tahallul, jamaah menunjukkan ketaatan pada tuntunan Rasulullah SAW dan mengakhiri perjalanan ibadah dengan cara yang benar. Apakah Bapak/Ibu ingin mengetahui lebih rinci tentang makna dan pentingnya tahallul dalam ibadah umrah dan haji?'},\n",
       "  {'role': 'user',\n",
       "   'content': 'Terima kasih, itu sudah jelas. Apa kesalahan yang sering dilakukan saat ziarah kubur Nabi?'},\n",
       "  {'role': 'assistant',\n",
       "   'content': 'Kesalahan saat ziarah kubur Nabi meliputi: 1) Meminta doa dan syafaat kepada Nabi. 2) Melakukan ibadah di sisi kuburan. 3) Mengusap dan mencium dinding kuburan Nabi. 4) Melemparkan surat titipan ke kuburan Nabi. Kesalahan-kesalahan ini bisa dihindari dengan mengikuti adab dan tuntunan yang benar saat ziarah. Apakah ada kesalahan lain yang ingin Anda ketahui lebih lanjut?'},\n",
       "  {'role': 'user',\n",
       "   'content': 'Cukup, terima kasih. Doa apa yang baik untuk meminta kebaikan dunia dan akhirat?'},\n",
       "  {'role': 'assistant',\n",
       "   'content': \"Doa pilihan untuk meminta kebaikan dunia dan akhirat adalah 'Ya Rabb Kami, berilah Kami kebaikan di dunia dan kebaikan di akhirat dan peliharalah Kami dari siksa neraka.' (QS. al-Baqarah: 201). Doa ini sangat umum dan sering dibaca oleh umat Muslim. Bagaimana Anda memaknai kebaikan dunia dan akhirat dalam hidup Anda?\"},\n",
       "  {'role': 'user',\n",
       "   'content': 'Tentu, itu sangat penting. Terakhir, apa manfaat membaca Ayat Kursi setelah shalat?'},\n",
       "  {'role': 'assistant',\n",
       "   'content': \"Membaca Ayat Kursi setelah shalat memiliki manfaat besar, termasuk perlindungan dari segala bahaya dan syafa'at di sisi Allah. Nabi ﷺ bersabda bahwa siapa yang membaca Ayat Kursi setiap selesai shalat fardhu, tidak ada yang menghalanginya masuk surga selain kematian. Apakah Anda sering membaca Ayat Kursi setelah shalat?\"}]}"
      ]
     },
     "metadata": {},
     "output_type": "display_data"
    },
    {
     "name": "stdout",
     "output_type": "stream",
     "text": [
      "------------------------------------------------------------------------------------------------------------------------\n"
     ]
    },
    {
     "data": {
      "text/plain": [
       "{'messages': [{'role': 'system',\n",
       "   'content': 'This assistant is knowledgeable about Umrah preparations, rituals, costs, and general travel and tourism in Saudi Arabia.'},\n",
       "  {'role': 'assistant',\n",
       "   'content': \"Assalamu'alaikum! Bagaimana kabar Bapak/Ibu? Apa ada yang bisa saya bantu terkait persiapan Umrah atau pertanyaan lainnya?\"},\n",
       "  {'role': 'user',\n",
       "   'content': \"Wa'alaikumsalam. Alhamdulillah, saya baik. Saya ingin tahu, apa saja keutamaan shalat di Masjid Nabawi?\"},\n",
       "  {'role': 'assistant',\n",
       "   'content': 'Keutamaan shalat di Masjid Nabawi sangat tinggi, yaitu shalat di Masjid Nabawi lebih mulia nilainya 1.000 kali lipat dibandingkan shalat di masjid lain, kecuali di Masjidil Haram yang lebih mulia 100.000 kali lipat. Apakah ada hal lain tentang keutamaan shalat yang ingin bapak/ibu ketahui?'},\n",
       "  {'role': 'user',\n",
       "   'content': 'Itu sangat luar biasa. Kalau sunnah-sunnah tawaf itu apa saja?'},\n",
       "  {'role': 'assistant',\n",
       "   'content': 'Sunnah-sunnah tawaf meliputi: 1) Berlari-lari kecil pada tiga putaran pertama, 2) Berdoa di Multazam setelah tawaf, 3) Menyentuh atau mencium Hajar Aswad jika memungkinkan, dan 4) Melakukan shalat sunnah dua rakaat di belakang Maqam Ibrahim setelah tawaf. Apakah bapak/ibu ingin tahu lebih detail tentang doa-doa yang dibaca saat sunnah tawaf?'},\n",
       "  {'role': 'user',\n",
       "   'content': 'Terima kasih, infonya. Saya cukup paham tentang sunnah tawaf. Saya juga penasaran, bagaimana cara melaksanakan haji ifrad?'},\n",
       "  {'role': 'assistant',\n",
       "   'content': 'Haji ifrad dilaksanakan dengan memulai niat ihram untuk haji dari miqat, kemudian melaksanakan semua rukun haji tanpa melakukan umrah. Ada yang ingin bapak/ibu tanyakan lebih lanjut mengenai proses ini?'},\n",
       "  {'role': 'user',\n",
       "   'content': 'Tidak untuk saat ini. Kalau di Makkah, bagaimana cara menggunakan fasilitas umum?'},\n",
       "  {'role': 'assistant',\n",
       "   'content': 'Menggunakan fasilitas umum di Makkah dengan mengikuti petunjuk yang ada, menjaga kebersihan, dan mematuhi peraturan setempat. Fasilitas seperti toilet, tempat wudhu, dan area istirahat tersedia di Masjidil Haram dan sekitarnya. Apakah ada fasilitas umum lain yang ingin bapak/ibu tanyakan?'},\n",
       "  {'role': 'user',\n",
       "   'content': 'Baik, terima kasih. Saya ingin tahu juga, bagaimana proses ihram pada tanggal 8 Dzulhijjah?'},\n",
       "  {'role': 'assistant',\n",
       "   'content': 'Pada tanggal 8 Dzulhijjah, kita memulai ihram untuk haji dari tempat kita berada, seperti hotel. Kita berniat untuk haji dan mengucapkan talbiyah, kemudian melanjutkan perjalanan ke Mina. Di Mina, kita melaksanakan shalat lima waktu: Dhuhur, Ashar, Maghrib, Isya, dan Subuh. Apakah bapak/ibu ingin mengetahui lebih rinci tentang aktivitas di Mina pada hari Tarwiyah?'},\n",
       "  {'role': 'user',\n",
       "   'content': 'Cukup jelas, terima kasih. Apa pendapat ulama mengenai kewajiban haji?'},\n",
       "  {'role': 'assistant',\n",
       "   'content': 'Para ulama sepakat bahwa haji wajib sekali seumur hidup bagi yang mampu. Ibnu Qudamah menyatakan bahwa umat telah bersepakat mengenai kewajiban ini. Jadi, bagi yang mampu, haji harus dilaksanakan setidaknya sekali dalam seumur hidup, dan hal ini sangat ditekankan dalam ajaran Islam sebagai salah satu bentuk ibadah yang penting.'},\n",
       "  {'role': 'user', 'content': 'Bagaimana cara memulai thawaf?'},\n",
       "  {'role': 'assistant',\n",
       "   'content': 'Baik bapak dan ibu, thawaf dimulai dengan menuju Hajar Aswad, menghadapnya sambil membaca “Allahu akbar” atau “Bismillah Allahu akbar”, lalu mengusapnya dengan tangan kanan dan menciumnya jika memungkinkan. Jika tidak, cukup dengan mengusapnya atau memberi isyarat dengan tangan. Apakah bapak/ibu ingin mengetahui lebih lanjut tentang tata cara ini?'},\n",
       "  {'role': 'user',\n",
       "   'content': 'Sudah cukup jelas. Apa Anda juga tahu nama-nama kota Makkah dan keutamaannya?'},\n",
       "  {'role': 'assistant',\n",
       "   'content': \"Tentu saja. Makkah memiliki beberapa nama dan keutamaan, di antaranya: 1) Makkah: dinamakan demikian karena manusia berdesakan di sana. 2) Bakkah: disebut dalam QS. Ali Imran: 96. 3) Ummul Qura: artinya Pusat Kota. 4) Al-Balad al-Amin: artinya Kota yang Aman. Keutamaannya termasuk tempat Ka'bah, negeri yang paling dicintai Allah, dilindungi dari serangan luar, Dajjal tidak bisa masuk, dan disebut sebagai Tanah Haram. Apakah ada nama atau keutamaan Makkah yang ingin Anda ketahui lebih lanjut?\"},\n",
       "  {'role': 'user',\n",
       "   'content': 'Menarik sekali. Mengapa air zamzam dianggap spesial dalam Islam?'},\n",
       "  {'role': 'assistant',\n",
       "   'content': 'Air zamzam dianggap spesial karena dalam hadits disebutkan sebagai \"Sebaik-baik air di muka bumi\" yang mengandung makanan yang mengenyangkan dan penawar penyakit. Banyak kisah ulama salaf yang doanya terkabul setelah meminum air zamzam. Apakah Anda ingin mengetahui lebih banyak tentang keutamaan air zamzam?'},\n",
       "  {'role': 'user',\n",
       "   'content': 'Luar biasa. Terakhir, apa doa yang dibaca saat berada di Bukit Shafa?'},\n",
       "  {'role': 'assistant',\n",
       "   'content': 'Doa yang dibaca saat berada di Bukit Shafa adalah \"Tidak ada ilah yang berhak diibadahi kecuali Allah, Allah Maha Besar, Allah Maha Besar, Allah Maha Besar.\" Doa ini menunjukkan pengakuan keesaan Allah dan kebesaran-Nya. Bagaimana Anda biasanya mengungkapkan kebesaran Allah dalam doa-doa Anda?'}]}"
      ]
     },
     "metadata": {},
     "output_type": "display_data"
    },
    {
     "name": "stdout",
     "output_type": "stream",
     "text": [
      "------------------------------------------------------------------------------------------------------------------------\n"
     ]
    },
    {
     "data": {
      "text/plain": [
       "{'messages': [{'role': 'system',\n",
       "   'content': 'This assistant is knowledgeable about Wukuf, Umrah preparation, and other rituals details'},\n",
       "  {'role': 'assistant',\n",
       "   'content': \"Assalamu'alaikum! Bagaimana kabar Bapak/Ibu? Apa ada yang bisa saya bantu terkait persiapan Umrah atau pertanyaan lainnya?\"},\n",
       "  {'role': 'user',\n",
       "   'content': \"Wa'alaikumsalam. Alhamdulillah, saya baik. Saya ingin tahu, bagaimana sih cara melaksanakan wukuf di Arafah?\"},\n",
       "  {'role': 'assistant',\n",
       "   'content': 'Alhamdulillah, senang mendengarnya. Wukuf di Arafah adalah puncak ibadah haji yang dilakukan dengan berdiam diri di Padang Arafah pada 9 Dzulhijjah, mulai dari tergelincir matahari sampai terbenam. Wukuf ini sangat penting karena tanpa melaksanakannya, haji tidak sah. Ada hal lain tentang wukuf di Arafah yang ingin Bapak/Ibu ketahui?'},\n",
       "  {'role': 'user',\n",
       "   'content': 'Terima kasih informasinya. Kalau misalnya saya sakit selama umrah, apa yang harus saya lakukan?'},\n",
       "  {'role': 'assistant',\n",
       "   'content': 'Jika Bapak/Ibu sakit selama umrah, sebaiknya segera mencari bantuan medis. Di sekitar Masjidil Haram dan Masjid Nabawi terdapat fasilitas kesehatan yang siap membantu jamaah. Apakah ada pertanyaan lain terkait kesehatan selama umrah?'},\n",
       "  {'role': 'user',\n",
       "   'content': 'Ya, mengenai makanan selama umrah. Apa saja makanan yang direkomendasikan?'},\n",
       "  {'role': 'assistant',\n",
       "   'content': 'Makanan yang direkomendasikan selama umrah adalah makanan yang higienis, bergizi, dan seimbang. Konsumsi makanan seperti buah-buahan, sayuran, protein, dan cukup minum air. Hindari makanan yang terlalu berat atau berminyak. Apakah ada makanan tertentu yang ingin bapak/ibu tanyakan?'},\n",
       "  {'role': 'user',\n",
       "   'content': 'Terima kasih. Oh ya, bagaimana cara menghindari penipuan selama umrah?'},\n",
       "  {'role': 'assistant',\n",
       "   'content': 'Halo bapak/ibu, untuk menghindari penipuan selama umrah, pastikan selalu membeli barang dari tempat resmi dan waspadai orang yang menawarkan bantuan dengan imbalan. Apakah bapak/ibu butuh tips lainnya?'},\n",
       "  {'role': 'user',\n",
       "   'content': 'Saya dengar tentang haji ifrad. Apa itu haji ifrad?'},\n",
       "  {'role': 'assistant',\n",
       "   'content': 'Haji ifrad adalah pelaksanaan ibadah haji tanpa umrah, dengan niat ihram hanya untuk haji sejak awal. Apakah bapak/ibu ingin penjelasan lebih lanjut tentang perbedaan haji ifrad dengan jenis haji lainnya?'},\n",
       "  {'role': 'user',\n",
       "   'content': 'Menarik juga, terima kasih. Bagaimana dengan ihram dari miqat? Apa itu?'},\n",
       "  {'role': 'assistant',\n",
       "   'content': 'Ihram dari miqat adalah memulai niat umroh dari tempat yang telah ditentukan sesuai dengan asal jamaah. Miqat adalah tempat atau waktu di mana jamaah harus mulai berihram. Apakah bapak/ibu ingin mengetahui lebih rinci tentang miqat?'},\n",
       "  {'role': 'user',\n",
       "   'content': 'Iya, sekalian dong. Apa yang dimaksud dengan niat ihram?'},\n",
       "  {'role': 'assistant',\n",
       "   'content': 'Niat ihram adalah niat untuk memulai ibadah haji atau umroh yang dilakukan saat berihram dari miqat. Niat ini adalah salah satu rukun haji yang harus dilakukan agar haji sah. Apakah bapak/ibu ingin mengetahui lebih lanjut tentang niat ihram?'},\n",
       "  {'role': 'user', 'content': \"Lalu, apa langkah pertama dalam haji tamatu'?\"},\n",
       "  {'role': 'assistant',\n",
       "   'content': \"Baik bapak dan ibu, langkah pertama dalam haji tamatu' adalah ihram dari miqat. Miqat adalah tempat yang telah ditentukan untuk memulai ihram. Di sini, kita berniat untuk umrah dan mengucapkan talbiyah, yaitu 'Labbaik Allahumma labbaik.' Dengan niat dan talbiyah ini, kita memasuki keadaan ihram, di mana kita harus mematuhi larangan-larangan ihram. Setelah itu, kita melanjutkan perjalanan menuju Mekkah. Apakah bapak/ibu ingin mengetahui lebih rinci tentang miqat dan tata cara ihram?\"},\n",
       "  {'role': 'user',\n",
       "   'content': 'Bagaimana dengan sunnah-sunnah dalam ibadah haji?'},\n",
       "  {'role': 'assistant',\n",
       "   'content': 'Sunnah dalam ibadah haji antara lain: Mandi saat hendak ihram, mengenakan pakaian ihram yang terdiri dari dua lembar, talbiyah dengan suara keras, mabit di Mina pada malam Arafah, mencium hajar aswad, idhthiba’ saat thawaf qudum atau thawaf umrah, dan raml pada tiga putaran pertama thawaf qudum atau thawaf umrah. Tidak ada resiko apapun bagi yang meninggalkan sunnah ini. Apakah Anda ingin mengetahui lebih lanjut tentang sunnah haji?'},\n",
       "  {'role': 'user',\n",
       "   'content': 'Doa apa yang dianjurkan saat meminum air zamzam?'},\n",
       "  {'role': 'assistant',\n",
       "   'content': \"Saat meminum air zamzam, dianjurkan untuk berdoa meminta kebaikan dunia dan akhirat. Doa yang sering dibaca adalah 'Allahumma inni as-aluka ilman naafi’an wa rizqan waasi’an wa shifaa’an min kulli daa’' yang berarti 'Ya Allah, aku mohon ilmu yang bermanfaat, rezeki yang luas, dan kesembuhan dari segala penyakit.' Apakah Anda ingin mengetahui lebih banyak doa yang dianjurkan saat meminum air zamzam?\"},\n",
       "  {'role': 'user',\n",
       "   'content': 'Saya juga ingin tahu, apa yang harus dilakukan setelah selesai thawaf?'},\n",
       "  {'role': 'assistant',\n",
       "   'content': 'Setelah selesai thawaf, disunnahkan untuk shalat dua rakaat di belakang maqam Ibrahim, kemudian meminum air zamzam dan membasahi tubuh dengannya. Setelah itu, menuju bukit Shafa untuk memulai sa’i. Apakah ada hal lain yang ingin Anda ketahui tentang rangkaian ibadah setelah thawaf?'}]}"
      ]
     },
     "metadata": {},
     "output_type": "display_data"
    },
    {
     "name": "stdout",
     "output_type": "stream",
     "text": [
      "------------------------------------------------------------------------------------------------------------------------\n"
     ]
    }
   ],
   "source": [
    "for i in conv_data['Conversations'].head():\n",
    "    display(eval(i))\n",
    "    print('---'*40)"
   ]
  },
  {
   "cell_type": "code",
   "execution_count": 58,
   "id": "79143c20",
   "metadata": {},
   "outputs": [
    {
     "data": {
      "text/html": [
       "<div>\n",
       "<style scoped>\n",
       "    .dataframe tbody tr th:only-of-type {\n",
       "        vertical-align: middle;\n",
       "    }\n",
       "\n",
       "    .dataframe tbody tr th {\n",
       "        vertical-align: top;\n",
       "    }\n",
       "\n",
       "    .dataframe thead th {\n",
       "        text-align: right;\n",
       "    }\n",
       "</style>\n",
       "<table border=\"1\" class=\"dataframe\">\n",
       "  <thead>\n",
       "    <tr style=\"text-align: right;\">\n",
       "      <th></th>\n",
       "      <th>Number</th>\n",
       "      <th>Conversations</th>\n",
       "    </tr>\n",
       "  </thead>\n",
       "  <tbody>\n",
       "    <tr>\n",
       "      <th>0</th>\n",
       "      <td>1</td>\n",
       "      <td>{'messages':[\\n    {'role': 'system','content'...</td>\n",
       "    </tr>\n",
       "    <tr>\n",
       "      <th>1</th>\n",
       "      <td>2</td>\n",
       "      <td>{\"messages\":[\\n    {'role': 'system','content'...</td>\n",
       "    </tr>\n",
       "    <tr>\n",
       "      <th>2</th>\n",
       "      <td>3</td>\n",
       "      <td>{\"messages\":[\\n    {'role': 'system', 'content...</td>\n",
       "    </tr>\n",
       "    <tr>\n",
       "      <th>3</th>\n",
       "      <td>4</td>\n",
       "      <td>{\\n    \"messages\":[\\n        {'role': 'system'...</td>\n",
       "    </tr>\n",
       "    <tr>\n",
       "      <th>4</th>\n",
       "      <td>5</td>\n",
       "      <td>{\"messages\":[\\n         {'role': 'system', 'co...</td>\n",
       "    </tr>\n",
       "  </tbody>\n",
       "</table>\n",
       "</div>"
      ],
      "text/plain": [
       "   Number                                      Conversations\n",
       "0       1  {'messages':[\\n    {'role': 'system','content'...\n",
       "1       2  {\"messages\":[\\n    {'role': 'system','content'...\n",
       "2       3  {\"messages\":[\\n    {'role': 'system', 'content...\n",
       "3       4  {\\n    \"messages\":[\\n        {'role': 'system'...\n",
       "4       5  {\"messages\":[\\n         {'role': 'system', 'co..."
      ]
     },
     "execution_count": 58,
     "metadata": {},
     "output_type": "execute_result"
    }
   ],
   "source": [
    "conv_data.head()"
   ]
  },
  {
   "cell_type": "code",
   "execution_count": 65,
   "id": "2de174ca",
   "metadata": {},
   "outputs": [],
   "source": [
    "conv_list = [eval(i) for con in conv_data['Conversations']]"
   ]
  },
  {
   "cell_type": "code",
   "execution_count": 69,
   "id": "5b022027",
   "metadata": {},
   "outputs": [],
   "source": [
    "import json\n",
    "\n",
    "# Specify your output file name\n",
    "output_file = \"50_conversation_json_file.jsonl\"\n",
    "\n",
    "# Open the file in write mode\n",
    "with open(output_file, 'w', encoding='utf-8') as file:\n",
    "    for entry in conv_list:\n",
    "        # Convert the dictionary to a JSON string and write it to the file\n",
    "        json_string = json.dumps(entry, ensure_ascii=False)\n",
    "        file.write(json_string + '\\n')  # Add a newline to separate entries"
   ]
  },
  {
   "cell_type": "code",
   "execution_count": null,
   "id": "7a0dcf2b",
   "metadata": {},
   "outputs": [],
   "source": []
  }
 ],
 "metadata": {
  "kernelspec": {
   "display_name": "Python (umrah_env)",
   "language": "python",
   "name": "umrah_env"
  },
  "language_info": {
   "codemirror_mode": {
    "name": "ipython",
    "version": 3
   },
   "file_extension": ".py",
   "mimetype": "text/x-python",
   "name": "python",
   "nbconvert_exporter": "python",
   "pygments_lexer": "ipython3",
   "version": "3.10.9"
  }
 },
 "nbformat": 4,
 "nbformat_minor": 5
}
